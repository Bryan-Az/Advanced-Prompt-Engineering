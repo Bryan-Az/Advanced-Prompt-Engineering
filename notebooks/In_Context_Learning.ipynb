{
  "nbformat": 4,
  "nbformat_minor": 0,
  "metadata": {
    "colab": {
      "provenance": [],
      "authorship_tag": "ABX9TyM+vH71D5kjdy82Q7JPBZPT",
      "include_colab_link": true
    },
    "kernelspec": {
      "name": "python3",
      "display_name": "Python 3"
    },
    "language_info": {
      "name": "python"
    },
    "widgets": {
      "application/vnd.jupyter.widget-state+json": {
        "2eacc3186cda4e7c8f690b4c87b72073": {
          "model_module": "@jupyter-widgets/controls",
          "model_name": "HBoxModel",
          "model_module_version": "1.5.0",
          "state": {
            "_dom_classes": [],
            "_model_module": "@jupyter-widgets/controls",
            "_model_module_version": "1.5.0",
            "_model_name": "HBoxModel",
            "_view_count": null,
            "_view_module": "@jupyter-widgets/controls",
            "_view_module_version": "1.5.0",
            "_view_name": "HBoxView",
            "box_style": "",
            "children": [
              "IPY_MODEL_295dcf1c26444a39b763e04f26ebdc5a",
              "IPY_MODEL_89824726b31e4a01872e7a9521abc42b",
              "IPY_MODEL_fd64461f067540e6b60df2ff4946bbc3"
            ],
            "layout": "IPY_MODEL_7f14db1ccff1429db3110bb67740db88"
          }
        },
        "295dcf1c26444a39b763e04f26ebdc5a": {
          "model_module": "@jupyter-widgets/controls",
          "model_name": "HTMLModel",
          "model_module_version": "1.5.0",
          "state": {
            "_dom_classes": [],
            "_model_module": "@jupyter-widgets/controls",
            "_model_module_version": "1.5.0",
            "_model_name": "HTMLModel",
            "_view_count": null,
            "_view_module": "@jupyter-widgets/controls",
            "_view_module_version": "1.5.0",
            "_view_name": "HTMLView",
            "description": "",
            "description_tooltip": null,
            "layout": "IPY_MODEL_743d5d5e40834e9aa14d65e37e40fbcb",
            "placeholder": "​",
            "style": "IPY_MODEL_082a0c9ac3ef4cea993340e0baee8905",
            "value": "roots/Roots.csv: 100%"
          }
        },
        "89824726b31e4a01872e7a9521abc42b": {
          "model_module": "@jupyter-widgets/controls",
          "model_name": "FloatProgressModel",
          "model_module_version": "1.5.0",
          "state": {
            "_dom_classes": [],
            "_model_module": "@jupyter-widgets/controls",
            "_model_module_version": "1.5.0",
            "_model_name": "FloatProgressModel",
            "_view_count": null,
            "_view_module": "@jupyter-widgets/controls",
            "_view_module_version": "1.5.0",
            "_view_name": "ProgressView",
            "bar_style": "success",
            "description": "",
            "description_tooltip": null,
            "layout": "IPY_MODEL_2ab4bec9ae724f568b1b23ee347224de",
            "max": 5314164,
            "min": 0,
            "orientation": "horizontal",
            "style": "IPY_MODEL_e9cca41822f04e7391ace38b15afe283",
            "value": 5314164
          }
        },
        "fd64461f067540e6b60df2ff4946bbc3": {
          "model_module": "@jupyter-widgets/controls",
          "model_name": "HTMLModel",
          "model_module_version": "1.5.0",
          "state": {
            "_dom_classes": [],
            "_model_module": "@jupyter-widgets/controls",
            "_model_module_version": "1.5.0",
            "_model_name": "HTMLModel",
            "_view_count": null,
            "_view_module": "@jupyter-widgets/controls",
            "_view_module_version": "1.5.0",
            "_view_name": "HTMLView",
            "description": "",
            "description_tooltip": null,
            "layout": "IPY_MODEL_17e4c76c942246e393a0aacafafd18ed",
            "placeholder": "​",
            "style": "IPY_MODEL_2df1a005920b4c3f8f40bcb946fb5d9e",
            "value": " 5.31M/5.31M [00:00&lt;00:00, 14.6MB/s]"
          }
        },
        "7f14db1ccff1429db3110bb67740db88": {
          "model_module": "@jupyter-widgets/base",
          "model_name": "LayoutModel",
          "model_module_version": "1.2.0",
          "state": {
            "_model_module": "@jupyter-widgets/base",
            "_model_module_version": "1.2.0",
            "_model_name": "LayoutModel",
            "_view_count": null,
            "_view_module": "@jupyter-widgets/base",
            "_view_module_version": "1.2.0",
            "_view_name": "LayoutView",
            "align_content": null,
            "align_items": null,
            "align_self": null,
            "border": null,
            "bottom": null,
            "display": null,
            "flex": null,
            "flex_flow": null,
            "grid_area": null,
            "grid_auto_columns": null,
            "grid_auto_flow": null,
            "grid_auto_rows": null,
            "grid_column": null,
            "grid_gap": null,
            "grid_row": null,
            "grid_template_areas": null,
            "grid_template_columns": null,
            "grid_template_rows": null,
            "height": null,
            "justify_content": null,
            "justify_items": null,
            "left": null,
            "margin": null,
            "max_height": null,
            "max_width": null,
            "min_height": null,
            "min_width": null,
            "object_fit": null,
            "object_position": null,
            "order": null,
            "overflow": null,
            "overflow_x": null,
            "overflow_y": null,
            "padding": null,
            "right": null,
            "top": null,
            "visibility": null,
            "width": null
          }
        },
        "743d5d5e40834e9aa14d65e37e40fbcb": {
          "model_module": "@jupyter-widgets/base",
          "model_name": "LayoutModel",
          "model_module_version": "1.2.0",
          "state": {
            "_model_module": "@jupyter-widgets/base",
            "_model_module_version": "1.2.0",
            "_model_name": "LayoutModel",
            "_view_count": null,
            "_view_module": "@jupyter-widgets/base",
            "_view_module_version": "1.2.0",
            "_view_name": "LayoutView",
            "align_content": null,
            "align_items": null,
            "align_self": null,
            "border": null,
            "bottom": null,
            "display": null,
            "flex": null,
            "flex_flow": null,
            "grid_area": null,
            "grid_auto_columns": null,
            "grid_auto_flow": null,
            "grid_auto_rows": null,
            "grid_column": null,
            "grid_gap": null,
            "grid_row": null,
            "grid_template_areas": null,
            "grid_template_columns": null,
            "grid_template_rows": null,
            "height": null,
            "justify_content": null,
            "justify_items": null,
            "left": null,
            "margin": null,
            "max_height": null,
            "max_width": null,
            "min_height": null,
            "min_width": null,
            "object_fit": null,
            "object_position": null,
            "order": null,
            "overflow": null,
            "overflow_x": null,
            "overflow_y": null,
            "padding": null,
            "right": null,
            "top": null,
            "visibility": null,
            "width": null
          }
        },
        "082a0c9ac3ef4cea993340e0baee8905": {
          "model_module": "@jupyter-widgets/controls",
          "model_name": "DescriptionStyleModel",
          "model_module_version": "1.5.0",
          "state": {
            "_model_module": "@jupyter-widgets/controls",
            "_model_module_version": "1.5.0",
            "_model_name": "DescriptionStyleModel",
            "_view_count": null,
            "_view_module": "@jupyter-widgets/base",
            "_view_module_version": "1.2.0",
            "_view_name": "StyleView",
            "description_width": ""
          }
        },
        "2ab4bec9ae724f568b1b23ee347224de": {
          "model_module": "@jupyter-widgets/base",
          "model_name": "LayoutModel",
          "model_module_version": "1.2.0",
          "state": {
            "_model_module": "@jupyter-widgets/base",
            "_model_module_version": "1.2.0",
            "_model_name": "LayoutModel",
            "_view_count": null,
            "_view_module": "@jupyter-widgets/base",
            "_view_module_version": "1.2.0",
            "_view_name": "LayoutView",
            "align_content": null,
            "align_items": null,
            "align_self": null,
            "border": null,
            "bottom": null,
            "display": null,
            "flex": null,
            "flex_flow": null,
            "grid_area": null,
            "grid_auto_columns": null,
            "grid_auto_flow": null,
            "grid_auto_rows": null,
            "grid_column": null,
            "grid_gap": null,
            "grid_row": null,
            "grid_template_areas": null,
            "grid_template_columns": null,
            "grid_template_rows": null,
            "height": null,
            "justify_content": null,
            "justify_items": null,
            "left": null,
            "margin": null,
            "max_height": null,
            "max_width": null,
            "min_height": null,
            "min_width": null,
            "object_fit": null,
            "object_position": null,
            "order": null,
            "overflow": null,
            "overflow_x": null,
            "overflow_y": null,
            "padding": null,
            "right": null,
            "top": null,
            "visibility": null,
            "width": null
          }
        },
        "e9cca41822f04e7391ace38b15afe283": {
          "model_module": "@jupyter-widgets/controls",
          "model_name": "ProgressStyleModel",
          "model_module_version": "1.5.0",
          "state": {
            "_model_module": "@jupyter-widgets/controls",
            "_model_module_version": "1.5.0",
            "_model_name": "ProgressStyleModel",
            "_view_count": null,
            "_view_module": "@jupyter-widgets/base",
            "_view_module_version": "1.2.0",
            "_view_name": "StyleView",
            "bar_color": null,
            "description_width": ""
          }
        },
        "17e4c76c942246e393a0aacafafd18ed": {
          "model_module": "@jupyter-widgets/base",
          "model_name": "LayoutModel",
          "model_module_version": "1.2.0",
          "state": {
            "_model_module": "@jupyter-widgets/base",
            "_model_module_version": "1.2.0",
            "_model_name": "LayoutModel",
            "_view_count": null,
            "_view_module": "@jupyter-widgets/base",
            "_view_module_version": "1.2.0",
            "_view_name": "LayoutView",
            "align_content": null,
            "align_items": null,
            "align_self": null,
            "border": null,
            "bottom": null,
            "display": null,
            "flex": null,
            "flex_flow": null,
            "grid_area": null,
            "grid_auto_columns": null,
            "grid_auto_flow": null,
            "grid_auto_rows": null,
            "grid_column": null,
            "grid_gap": null,
            "grid_row": null,
            "grid_template_areas": null,
            "grid_template_columns": null,
            "grid_template_rows": null,
            "height": null,
            "justify_content": null,
            "justify_items": null,
            "left": null,
            "margin": null,
            "max_height": null,
            "max_width": null,
            "min_height": null,
            "min_width": null,
            "object_fit": null,
            "object_position": null,
            "order": null,
            "overflow": null,
            "overflow_x": null,
            "overflow_y": null,
            "padding": null,
            "right": null,
            "top": null,
            "visibility": null,
            "width": null
          }
        },
        "2df1a005920b4c3f8f40bcb946fb5d9e": {
          "model_module": "@jupyter-widgets/controls",
          "model_name": "DescriptionStyleModel",
          "model_module_version": "1.5.0",
          "state": {
            "_model_module": "@jupyter-widgets/controls",
            "_model_module_version": "1.5.0",
            "_model_name": "DescriptionStyleModel",
            "_view_count": null,
            "_view_module": "@jupyter-widgets/base",
            "_view_module_version": "1.2.0",
            "_view_name": "StyleView",
            "description_width": ""
          }
        },
        "7b71fc8aa28447c7ac0d84c57a9b55b3": {
          "model_module": "@jupyter-widgets/controls",
          "model_name": "HBoxModel",
          "model_module_version": "1.5.0",
          "state": {
            "_dom_classes": [],
            "_model_module": "@jupyter-widgets/controls",
            "_model_module_version": "1.5.0",
            "_model_name": "HBoxModel",
            "_view_count": null,
            "_view_module": "@jupyter-widgets/controls",
            "_view_module_version": "1.5.0",
            "_view_name": "HBoxView",
            "box_style": "",
            "children": [
              "IPY_MODEL_8d884b66bc34414cb06544eee1881a4b",
              "IPY_MODEL_cc0a69f6538842ea806baaebe671ae43",
              "IPY_MODEL_23fb1002214343749ef296397937c78c"
            ],
            "layout": "IPY_MODEL_96b2b9f92353423eb3d51e1e26770f89"
          }
        },
        "8d884b66bc34414cb06544eee1881a4b": {
          "model_module": "@jupyter-widgets/controls",
          "model_name": "HTMLModel",
          "model_module_version": "1.5.0",
          "state": {
            "_dom_classes": [],
            "_model_module": "@jupyter-widgets/controls",
            "_model_module_version": "1.5.0",
            "_model_name": "HTMLModel",
            "_view_count": null,
            "_view_module": "@jupyter-widgets/controls",
            "_view_module_version": "1.5.0",
            "_view_name": "HTMLView",
            "description": "",
            "description_tooltip": null,
            "layout": "IPY_MODEL_e48f4fb8c5ac4501b160aa36e14895a0",
            "placeholder": "​",
            "style": "IPY_MODEL_6ff1130d939d4611a7f0a2879db30fcf",
            "value": "Generating train split: 100%"
          }
        },
        "cc0a69f6538842ea806baaebe671ae43": {
          "model_module": "@jupyter-widgets/controls",
          "model_name": "FloatProgressModel",
          "model_module_version": "1.5.0",
          "state": {
            "_dom_classes": [],
            "_model_module": "@jupyter-widgets/controls",
            "_model_module_version": "1.5.0",
            "_model_name": "FloatProgressModel",
            "_view_count": null,
            "_view_module": "@jupyter-widgets/controls",
            "_view_module_version": "1.5.0",
            "_view_name": "ProgressView",
            "bar_style": "success",
            "description": "",
            "description_tooltip": null,
            "layout": "IPY_MODEL_978c91ef315d46a8ba111ad5dab57cdc",
            "max": 10000,
            "min": 0,
            "orientation": "horizontal",
            "style": "IPY_MODEL_10d8d0ce62344118881d42bdc2a2676c",
            "value": 10000
          }
        },
        "23fb1002214343749ef296397937c78c": {
          "model_module": "@jupyter-widgets/controls",
          "model_name": "HTMLModel",
          "model_module_version": "1.5.0",
          "state": {
            "_dom_classes": [],
            "_model_module": "@jupyter-widgets/controls",
            "_model_module_version": "1.5.0",
            "_model_name": "HTMLModel",
            "_view_count": null,
            "_view_module": "@jupyter-widgets/controls",
            "_view_module_version": "1.5.0",
            "_view_name": "HTMLView",
            "description": "",
            "description_tooltip": null,
            "layout": "IPY_MODEL_5958b70810484e70aab6cbe4ca195db9",
            "placeholder": "​",
            "style": "IPY_MODEL_85edbf8a168940e2ab8d8004d8180f17",
            "value": " 10000/10000 [00:00&lt;00:00, 60809.84 examples/s]"
          }
        },
        "96b2b9f92353423eb3d51e1e26770f89": {
          "model_module": "@jupyter-widgets/base",
          "model_name": "LayoutModel",
          "model_module_version": "1.2.0",
          "state": {
            "_model_module": "@jupyter-widgets/base",
            "_model_module_version": "1.2.0",
            "_model_name": "LayoutModel",
            "_view_count": null,
            "_view_module": "@jupyter-widgets/base",
            "_view_module_version": "1.2.0",
            "_view_name": "LayoutView",
            "align_content": null,
            "align_items": null,
            "align_self": null,
            "border": null,
            "bottom": null,
            "display": null,
            "flex": null,
            "flex_flow": null,
            "grid_area": null,
            "grid_auto_columns": null,
            "grid_auto_flow": null,
            "grid_auto_rows": null,
            "grid_column": null,
            "grid_gap": null,
            "grid_row": null,
            "grid_template_areas": null,
            "grid_template_columns": null,
            "grid_template_rows": null,
            "height": null,
            "justify_content": null,
            "justify_items": null,
            "left": null,
            "margin": null,
            "max_height": null,
            "max_width": null,
            "min_height": null,
            "min_width": null,
            "object_fit": null,
            "object_position": null,
            "order": null,
            "overflow": null,
            "overflow_x": null,
            "overflow_y": null,
            "padding": null,
            "right": null,
            "top": null,
            "visibility": null,
            "width": null
          }
        },
        "e48f4fb8c5ac4501b160aa36e14895a0": {
          "model_module": "@jupyter-widgets/base",
          "model_name": "LayoutModel",
          "model_module_version": "1.2.0",
          "state": {
            "_model_module": "@jupyter-widgets/base",
            "_model_module_version": "1.2.0",
            "_model_name": "LayoutModel",
            "_view_count": null,
            "_view_module": "@jupyter-widgets/base",
            "_view_module_version": "1.2.0",
            "_view_name": "LayoutView",
            "align_content": null,
            "align_items": null,
            "align_self": null,
            "border": null,
            "bottom": null,
            "display": null,
            "flex": null,
            "flex_flow": null,
            "grid_area": null,
            "grid_auto_columns": null,
            "grid_auto_flow": null,
            "grid_auto_rows": null,
            "grid_column": null,
            "grid_gap": null,
            "grid_row": null,
            "grid_template_areas": null,
            "grid_template_columns": null,
            "grid_template_rows": null,
            "height": null,
            "justify_content": null,
            "justify_items": null,
            "left": null,
            "margin": null,
            "max_height": null,
            "max_width": null,
            "min_height": null,
            "min_width": null,
            "object_fit": null,
            "object_position": null,
            "order": null,
            "overflow": null,
            "overflow_x": null,
            "overflow_y": null,
            "padding": null,
            "right": null,
            "top": null,
            "visibility": null,
            "width": null
          }
        },
        "6ff1130d939d4611a7f0a2879db30fcf": {
          "model_module": "@jupyter-widgets/controls",
          "model_name": "DescriptionStyleModel",
          "model_module_version": "1.5.0",
          "state": {
            "_model_module": "@jupyter-widgets/controls",
            "_model_module_version": "1.5.0",
            "_model_name": "DescriptionStyleModel",
            "_view_count": null,
            "_view_module": "@jupyter-widgets/base",
            "_view_module_version": "1.2.0",
            "_view_name": "StyleView",
            "description_width": ""
          }
        },
        "978c91ef315d46a8ba111ad5dab57cdc": {
          "model_module": "@jupyter-widgets/base",
          "model_name": "LayoutModel",
          "model_module_version": "1.2.0",
          "state": {
            "_model_module": "@jupyter-widgets/base",
            "_model_module_version": "1.2.0",
            "_model_name": "LayoutModel",
            "_view_count": null,
            "_view_module": "@jupyter-widgets/base",
            "_view_module_version": "1.2.0",
            "_view_name": "LayoutView",
            "align_content": null,
            "align_items": null,
            "align_self": null,
            "border": null,
            "bottom": null,
            "display": null,
            "flex": null,
            "flex_flow": null,
            "grid_area": null,
            "grid_auto_columns": null,
            "grid_auto_flow": null,
            "grid_auto_rows": null,
            "grid_column": null,
            "grid_gap": null,
            "grid_row": null,
            "grid_template_areas": null,
            "grid_template_columns": null,
            "grid_template_rows": null,
            "height": null,
            "justify_content": null,
            "justify_items": null,
            "left": null,
            "margin": null,
            "max_height": null,
            "max_width": null,
            "min_height": null,
            "min_width": null,
            "object_fit": null,
            "object_position": null,
            "order": null,
            "overflow": null,
            "overflow_x": null,
            "overflow_y": null,
            "padding": null,
            "right": null,
            "top": null,
            "visibility": null,
            "width": null
          }
        },
        "10d8d0ce62344118881d42bdc2a2676c": {
          "model_module": "@jupyter-widgets/controls",
          "model_name": "ProgressStyleModel",
          "model_module_version": "1.5.0",
          "state": {
            "_model_module": "@jupyter-widgets/controls",
            "_model_module_version": "1.5.0",
            "_model_name": "ProgressStyleModel",
            "_view_count": null,
            "_view_module": "@jupyter-widgets/base",
            "_view_module_version": "1.2.0",
            "_view_name": "StyleView",
            "bar_color": null,
            "description_width": ""
          }
        },
        "5958b70810484e70aab6cbe4ca195db9": {
          "model_module": "@jupyter-widgets/base",
          "model_name": "LayoutModel",
          "model_module_version": "1.2.0",
          "state": {
            "_model_module": "@jupyter-widgets/base",
            "_model_module_version": "1.2.0",
            "_model_name": "LayoutModel",
            "_view_count": null,
            "_view_module": "@jupyter-widgets/base",
            "_view_module_version": "1.2.0",
            "_view_name": "LayoutView",
            "align_content": null,
            "align_items": null,
            "align_self": null,
            "border": null,
            "bottom": null,
            "display": null,
            "flex": null,
            "flex_flow": null,
            "grid_area": null,
            "grid_auto_columns": null,
            "grid_auto_flow": null,
            "grid_auto_rows": null,
            "grid_column": null,
            "grid_gap": null,
            "grid_row": null,
            "grid_template_areas": null,
            "grid_template_columns": null,
            "grid_template_rows": null,
            "height": null,
            "justify_content": null,
            "justify_items": null,
            "left": null,
            "margin": null,
            "max_height": null,
            "max_width": null,
            "min_height": null,
            "min_width": null,
            "object_fit": null,
            "object_position": null,
            "order": null,
            "overflow": null,
            "overflow_x": null,
            "overflow_y": null,
            "padding": null,
            "right": null,
            "top": null,
            "visibility": null,
            "width": null
          }
        },
        "85edbf8a168940e2ab8d8004d8180f17": {
          "model_module": "@jupyter-widgets/controls",
          "model_name": "DescriptionStyleModel",
          "model_module_version": "1.5.0",
          "state": {
            "_model_module": "@jupyter-widgets/controls",
            "_model_module_version": "1.5.0",
            "_model_name": "DescriptionStyleModel",
            "_view_count": null,
            "_view_module": "@jupyter-widgets/base",
            "_view_module_version": "1.2.0",
            "_view_name": "StyleView",
            "description_width": ""
          }
        }
      }
    }
  },
  "cells": [
    {
      "cell_type": "markdown",
      "metadata": {
        "id": "view-in-github",
        "colab_type": "text"
      },
      "source": [
        "<a href=\"https://colab.research.google.com/github/Bryan-Az/Advanced-Prompt-Engineering/blob/main/notebooks/prompt_techniques/In_Context_Learning.ipynb\" target=\"_parent\"><img src=\"https://colab.research.google.com/assets/colab-badge.svg\" alt=\"Open In Colab\"/></a>"
      ]
    },
    {
      "cell_type": "markdown",
      "source": [
        "# Applying In-Context-Learning to Prompt Template Generation"
      ],
      "metadata": {
        "id": "7Fd6EZqycoD4"
      }
    },
    {
      "cell_type": "markdown",
      "source": [
        "## Imports and Installs"
      ],
      "metadata": {
        "id": "pwQ2b8ZZeOTp"
      }
    },
    {
      "cell_type": "code",
      "source": [
        "%%capture\n",
        "!pip install datasets"
      ],
      "metadata": {
        "id": "gYvJ82NseJX5"
      },
      "execution_count": null,
      "outputs": []
    },
    {
      "cell_type": "code",
      "source": [
        "import json\n",
        "import datasets\n",
        "import openai\n",
        "from google.colab import userdata\n",
        "import os"
      ],
      "metadata": {
        "id": "3DyveIpCcmoG"
      },
      "execution_count": 65,
      "outputs": []
    },
    {
      "cell_type": "markdown",
      "source": [
        "## Loading the Sample Template and ICL Sample Data"
      ],
      "metadata": {
        "id": "5LgK48gjeQ-V"
      }
    },
    {
      "cell_type": "code",
      "source": [
        "# downloading the icl sample json from github\n",
        "!wget https://raw.githubusercontent.com/Bryan-Az/Advanced-Prompt-Engineering/refs/heads/main/prompts/ICL_sample_structure.json -O ICL_sample_structure.json"
      ],
      "metadata": {
        "colab": {
          "base_uri": "https://localhost:8080/"
        },
        "id": "L50vpmA2UZ1T",
        "outputId": "7f9f8331-cd4f-4f9b-f592-e189ef86d7f2"
      },
      "execution_count": 31,
      "outputs": [
        {
          "output_type": "stream",
          "name": "stdout",
          "text": [
            "--2024-11-30 00:27:36--  https://raw.githubusercontent.com/Bryan-Az/Advanced-Prompt-Engineering/refs/heads/main/prompts/ICL_sample_structure.json\n",
            "Resolving raw.githubusercontent.com (raw.githubusercontent.com)... 185.199.108.133, 185.199.111.133, 185.199.109.133, ...\n",
            "Connecting to raw.githubusercontent.com (raw.githubusercontent.com)|185.199.108.133|:443... connected.\n",
            "HTTP request sent, awaiting response... 200 OK\n",
            "Length: 594 [text/plain]\n",
            "Saving to: ‘ICL_sample_structure.json’\n",
            "\n",
            "\r          ICL_sampl   0%[                    ]       0  --.-KB/s               \rICL_sample_structur 100%[===================>]     594  --.-KB/s    in 0s      \n",
            "\n",
            "2024-11-30 00:27:37 (17.8 MB/s) - ‘ICL_sample_structure.json’ saved [594/594]\n",
            "\n"
          ]
        }
      ]
    },
    {
      "cell_type": "code",
      "source": [
        "#loading the sample ICL template\n",
        "with open('ICL_sample_structure.json', 'r') as file:\n",
        "    sample_structure = json.load(file)"
      ],
      "metadata": {
        "id": "QjCDy4fucisj"
      },
      "execution_count": 45,
      "outputs": []
    },
    {
      "cell_type": "code",
      "source": [
        "display(sample_structure)"
      ],
      "metadata": {
        "colab": {
          "base_uri": "https://localhost:8080/",
          "height": 106
        },
        "id": "lKMWuB_rjSor",
        "outputId": "cd5f430e-22c7-449a-95b7-a894f8f1ae1b"
      },
      "execution_count": 90,
      "outputs": [
        {
          "output_type": "display_data",
          "data": {
            "text/plain": [
              "{'domain_1': [{'prompt_1_components': {'prompt': 'prompt text with question, variable_1 is text, variable_2 is 0.',\n",
              "    'data_context': {'variable_1': 'text', 'variable_2': 0}},\n",
              "   'test_case': {'eval_prompt_1': 'eval prompt with question, variable_1 is text_1, variable_2 is 1.',\n",
              "    'data_context': {'variable_1': 'text_1', 'variable_2': 1},\n",
              "    'expected_output': 'response text with answer, making reference to variable_1 as text_1 and variable_2 as 1'}}]}"
            ]
          },
          "metadata": {}
        }
      ]
    },
    {
      "cell_type": "code",
      "source": [
        "# loading a sample dataset for use as context\n",
        "roots_dataset = datasets.load_dataset('Alexis-Az/math_datasets', 'roots')"
      ],
      "metadata": {
        "colab": {
          "base_uri": "https://localhost:8080/",
          "height": 81,
          "referenced_widgets": [
            "2eacc3186cda4e7c8f690b4c87b72073",
            "295dcf1c26444a39b763e04f26ebdc5a",
            "89824726b31e4a01872e7a9521abc42b",
            "fd64461f067540e6b60df2ff4946bbc3",
            "7f14db1ccff1429db3110bb67740db88",
            "743d5d5e40834e9aa14d65e37e40fbcb",
            "082a0c9ac3ef4cea993340e0baee8905",
            "2ab4bec9ae724f568b1b23ee347224de",
            "e9cca41822f04e7391ace38b15afe283",
            "17e4c76c942246e393a0aacafafd18ed",
            "2df1a005920b4c3f8f40bcb946fb5d9e",
            "7b71fc8aa28447c7ac0d84c57a9b55b3",
            "8d884b66bc34414cb06544eee1881a4b",
            "cc0a69f6538842ea806baaebe671ae43",
            "23fb1002214343749ef296397937c78c",
            "96b2b9f92353423eb3d51e1e26770f89",
            "e48f4fb8c5ac4501b160aa36e14895a0",
            "6ff1130d939d4611a7f0a2879db30fcf",
            "978c91ef315d46a8ba111ad5dab57cdc",
            "10d8d0ce62344118881d42bdc2a2676c",
            "5958b70810484e70aab6cbe4ca195db9",
            "85edbf8a168940e2ab8d8004d8180f17"
          ]
        },
        "id": "tfsdrew3eYLb",
        "outputId": "a1ff520a-f948-4b3b-d9a6-5ddb7a06114b"
      },
      "execution_count": 42,
      "outputs": [
        {
          "output_type": "display_data",
          "data": {
            "text/plain": [
              "roots/Roots.csv:   0%|          | 0.00/5.31M [00:00<?, ?B/s]"
            ],
            "application/vnd.jupyter.widget-view+json": {
              "version_major": 2,
              "version_minor": 0,
              "model_id": "2eacc3186cda4e7c8f690b4c87b72073"
            }
          },
          "metadata": {}
        },
        {
          "output_type": "display_data",
          "data": {
            "text/plain": [
              "Generating train split:   0%|          | 0/10000 [00:00<?, ? examples/s]"
            ],
            "application/vnd.jupyter.widget-view+json": {
              "version_major": 2,
              "version_minor": 0,
              "model_id": "7b71fc8aa28447c7ac0d84c57a9b55b3"
            }
          },
          "metadata": {}
        }
      ]
    },
    {
      "cell_type": "markdown",
      "source": [
        "## Initializing the OpenAI Model API Class"
      ],
      "metadata": {
        "id": "CzAPmvo6e2xE"
      }
    },
    {
      "cell_type": "code",
      "source": [
        "openai_key = userdata.get(\"openai\")\n",
        "os.environ[\"OPENAI_API_KEY\"] = openai_key"
      ],
      "metadata": {
        "id": "NWA6-s_YgqPK"
      },
      "execution_count": 66,
      "outputs": []
    },
    {
      "cell_type": "code",
      "source": [
        "model_name = 'gpt-3.5-turbo'\n",
        "def get_completion(prompt, model=model_name):\n",
        "  \"\"\"Generates text using the OpenAI API.\n",
        "\n",
        "  Args:\n",
        "    prompt: The prompt to send to the API.\n",
        "    model: The name of the model to use.\n",
        "\n",
        "  Returns:\n",
        "    The generated text.\n",
        "  \"\"\"\n",
        "  response = openai.chat.completions.create(\n",
        "      model=model,\n",
        "      messages=[{\"role\": \"user\", \"content\": prompt}],\n",
        "      temperature=0.01\n",
        "  )\n",
        "  return response.choices[0].message.content"
      ],
      "metadata": {
        "id": "vLUd5tLEfCme"
      },
      "execution_count": 70,
      "outputs": []
    },
    {
      "cell_type": "markdown",
      "source": [
        "## Using the Model API to Generate ICL Prompts for 3 Domains"
      ],
      "metadata": {
        "id": "r5kqN8RFh6q3"
      }
    },
    {
      "cell_type": "code",
      "source": [
        "# calling the OpenAI API to use this template to generate a sample ICL prompt for healthcare\n",
        "ICL_prompt_generation_prompt_healthcare = f\"Can you help me use this sample json template to generate an in-context learning JSON prompts for healthcare?. Remember to change the key name of the domain to reflect healthcare. Template: {sample_structure}\"\n",
        "prompt_1 = get_completion(ICL_prompt_generation_prompt_healthcare)"
      ],
      "metadata": {
        "id": "VeBOAlbYd1a0"
      },
      "execution_count": 82,
      "outputs": []
    },
    {
      "cell_type": "code",
      "source": [
        "# calling the OpenAI API to use this template to generate a sample ICL prompt for software engineering\n",
        "ICL_prompt_generation_prompt_software_engineering = f\"Can you help me use this sample json template to generate an in-context learning JSON prompts for software engineering? Remember to change the key name of the domain to reflect software. Template: {sample_structure}\"\n",
        "prompt_2 = get_completion(ICL_prompt_generation_prompt_software_engineering)"
      ],
      "metadata": {
        "id": "g5ZgI4BXhaTn"
      },
      "execution_count": 83,
      "outputs": []
    },
    {
      "cell_type": "code",
      "source": [
        "# calling the OpenAI API to use this template to generate a sample ICL prompt for math\n",
        "examples = roots_dataset['train'][:3]\n",
        "ICL_prompt_generation_prompt_math = f\"Can you help me use this sample json template to generate an in-context learning JSON prompts for math? Remember to change the key name of the domain to reflect math. Template: {sample_structure} Examples: {examples}\"\n",
        "prompt_3 = get_completion(ICL_prompt_generation_prompt_math)"
      ],
      "metadata": {
        "id": "NIxKZDREgA00"
      },
      "execution_count": 84,
      "outputs": []
    },
    {
      "cell_type": "code",
      "source": [
        "# using regex to select the json from the text output\n",
        "import re\n",
        "def extract_json_from_text(text):\n",
        "    json_match = re.search(r'{.*}', text, re.DOTALL)\n",
        "    if json_match:\n",
        "        return json_match.group()\n",
        "    else:\n",
        "        return None\n",
        "# applying it on the 3 prompts\n",
        "prompts = [prompt_1, prompt_2, prompt_3]\n",
        "ICL_prompts = [extract_json_from_text(prompt) for prompt in prompts]"
      ],
      "metadata": {
        "id": "aL6wOc7YhQlT"
      },
      "execution_count": 86,
      "outputs": []
    },
    {
      "cell_type": "code",
      "source": [
        "# writing the output by appending to a json file at prompts/field_specific_prompts_ICL.json\n",
        "with open('prompts/field_specific_prompts_ICL.json', 'w') as file:\n",
        "    json.dump(ICL_prompts, file, indent=4)"
      ],
      "metadata": {
        "id": "HJf_YwXIiKk8"
      },
      "execution_count": 89,
      "outputs": []
    }
  ]
}