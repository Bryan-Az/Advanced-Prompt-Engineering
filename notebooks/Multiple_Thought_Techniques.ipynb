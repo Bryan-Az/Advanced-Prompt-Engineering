{
  "nbformat": 4,
  "nbformat_minor": 0,
  "metadata": {
    "colab": {
      "provenance": [],
      "authorship_tag": "ABX9TyO6aSm0m3JcGvcvYflyZ1Zz",
      "include_colab_link": true
    },
    "kernelspec": {
      "name": "python3",
      "display_name": "Python 3"
    },
    "language_info": {
      "name": "python"
    }
  },
  "cells": [
    {
      "cell_type": "markdown",
      "metadata": {
        "id": "view-in-github",
        "colab_type": "text"
      },
      "source": [
        "<a href=\"https://colab.research.google.com/github/Bryan-Az/Advanced-Prompt-Engineering/blob/main/notebooks/Multiple_Thought_Techniques.ipynb\" target=\"_parent\"><img src=\"https://colab.research.google.com/assets/colab-badge.svg\" alt=\"Open In Colab\"/></a>"
      ]
    },
    {
      "cell_type": "markdown",
      "source": [
        "# Chain of Thought (CoT) and Tree of Thought (ToT)"
      ],
      "metadata": {
        "id": "QvcZbBhSP4n_"
      }
    },
    {
      "cell_type": "markdown",
      "source": [
        "I attempted to use the open-source pip package 'tree-of-thoughts' with swarm capability within both colab and locally and both times it failed to build using the instructions provided by the developers. Therefore I am only looking at the simpler Chain of Thought method as well as the simpler ToT 'decorator' implementation using only langchain."
      ],
      "metadata": {
        "id": "zKE31ZDGPrc9"
      }
    },
    {
      "cell_type": "markdown",
      "source": [
        "## Imports and Installs"
      ],
      "metadata": {
        "id": "GbHrUiERx9oU"
      }
    },
    {
      "cell_type": "code",
      "source": [
        "#!pip3 install -U swarms pydantic swarm-models==0.2.2 \\\n",
        "#\"tensorflow>=2.17.0,<2.18.0\" \\\n",
        "#\"tensorflow_metadata>=1.13.0,<2.0.0\" \\\n",
        "#\"langchain-core>=0.1.33,<0.2.0\" \\\n",
        "#\"langchain\" \\\n",
        "#\"langchain-community==0.0.29\" \\\n",
        "#\"langchain-text-splitters\" \\\n",
        "#\"protobuf>=4.21.0,<5.0.0\" \\\n",
        "#tree-of-thoughts"
      ],
      "metadata": {
        "id": "rbfxk_PlBk_h"
      },
      "execution_count": null,
      "outputs": []
    },
    {
      "cell_type": "code",
      "source": [
        "%%capture\n",
        "!pip install openai langchain-community"
      ],
      "metadata": {
        "id": "j_-pwmYlQAKn"
      },
      "execution_count": 4,
      "outputs": []
    },
    {
      "cell_type": "code",
      "source": [
        "import os\n",
        "import openai\n",
        "from langchain import PromptTemplate, LLMChain\n",
        "from langchain.llms import OpenAI\n",
        "from google.colab import userdata\n",
        "import json"
      ],
      "metadata": {
        "id": "0CzhT_RfRW3L"
      },
      "execution_count": 6,
      "outputs": []
    },
    {
      "cell_type": "code",
      "source": [
        "openai_api_key = userdata.get('openai')"
      ],
      "metadata": {
        "id": "2sbbTgocSHJH"
      },
      "execution_count": 7,
      "outputs": []
    },
    {
      "cell_type": "markdown",
      "source": [
        "## Loading Sample CoT & ToT Prompt Templates"
      ],
      "metadata": {
        "id": "d9QjQuHaSg8Q"
      }
    },
    {
      "cell_type": "code",
      "source": [
        "prompt = 'What are the common symptoms of COVID-19? Think through this critically and note logical steps leading up to your answer.'"
      ],
      "metadata": {
        "id": "43a6mQrXTSWd"
      },
      "execution_count": 29,
      "outputs": []
    },
    {
      "cell_type": "code",
      "source": [
        "tot_meta_prompt = 'Imagine three difference experts are answering this question. All experts will write down each step of their thinking and share it with the group. They will each critique their response, and all the responses of the others. They will check their answers based on healthcare science. They will go through steps until they reach a conclusion. If at any time there is a flaw in their logic they will backtrack to where the flaw occured in their logical reasoning. The question is {question}. The experts reasoning is ...'"
      ],
      "metadata": {
        "id": "P0U4EznjVSnF"
      },
      "execution_count": 41,
      "outputs": []
    },
    {
      "cell_type": "code",
      "source": [
        "tot_fuser_prompt = '''Several experts have been asked this question: {question} And their answers are {answer} Which answer is the most likely? The most likely answer is...'''"
      ],
      "metadata": {
        "id": "mi0mWpU3WIMj"
      },
      "execution_count": 43,
      "outputs": []
    },
    {
      "cell_type": "markdown",
      "source": [
        "## Chain of Thought"
      ],
      "metadata": {
        "id": "JAVSmeYPSdxp"
      }
    },
    {
      "cell_type": "code",
      "source": [
        "# this model will be used on its own to demonstrate a single chain of thought\n",
        "llm1 = OpenAI(temperature=0.7, max_tokens=3000, openai_api_key=openai_api_key)"
      ],
      "metadata": {
        "id": "8FAzfLf-Sdm3"
      },
      "execution_count": null,
      "outputs": []
    },
    {
      "cell_type": "code",
      "source": [
        "response_CoT = llm1.generate([prompt])"
      ],
      "metadata": {
        "id": "cfBioDEgUees"
      },
      "execution_count": 31,
      "outputs": []
    },
    {
      "cell_type": "markdown",
      "source": [
        "In the response using the Chain-of-Thought method, the model was able to answer by splitting up its' response into bulleted step-by-step responses."
      ],
      "metadata": {
        "id": "W4MjPHBQU75W"
      }
    },
    {
      "cell_type": "code",
      "source": [
        "response_CoT.generations[0][0].text.replace('\\n', '')"
      ],
      "metadata": {
        "colab": {
          "base_uri": "https://localhost:8080/",
          "height": 143
        },
        "id": "scsquQZjUqKi",
        "outputId": "07a94ee9-6d41-4bfb-bbf1-ecfa8d028f1f"
      },
      "execution_count": 64,
      "outputs": [
        {
          "output_type": "execute_result",
          "data": {
            "text/plain": [
              "\"1. Understanding COVID-19: COVID-19 is a highly infectious respiratory illness caused by the novel coronavirus SARS-CoV-2. It was first identified in Wuhan, China in 2019 and has since spread globally, resulting in a pandemic.2. How is COVID-19 transmitted: The virus is primarily spread through respiratory droplets when an infected person talks, coughs, or sneezes. It can also be transmitted by coming into contact with contaminated surfaces and then touching one's face.3. Incubation period: The incubation period for COVID-19 is typically 2-14 days, with an average of 5-6 days. This means that symptoms may not appear immediately after exposure to the virus.4. Common symptoms: The most common symptoms of COVID-19 include fever, dry cough, and fatigue. These symptoms are similar to the flu or a common cold, making it difficult to distinguish between them without a medical test.5. Other symptoms: In addition to the three main symptoms, COVID-19 can also cause shortness of breath, body aches, sore throat, loss of taste or smell, and headaches. Some people may also experience gastrointestinal symptoms such as nausea, vomiting, or diarrhea.6. Severity of symptoms: The severity of symptoms can vary from person to person, with some experiencing mild symptoms while others may develop severe respiratory illness, pneumonia, or even death.7. At-risk populations: Older adults and those with underlying health conditions such as diabetes, heart disease, or weakened immune systems are at a higher risk of developing severe symptoms from COVID-19.8. Asymptomatic cases: It is also important to note that some people infected with COVID-19 may not experience any symptoms at all, making it possible for them to unknowingly spread the virus to others.9. Seeking medical attention: If you or someone you know is experiencing symptoms of COVID-19, it is important to seek medical attention immediately. This includes calling your healthcare provider or local health department for guidance and possibly getting tested for the virus.10. Prevention: The best way to prevent the spread of COVID-19 is by following recommended measures such as wearing a mask, practicing social distancing, washing hands frequently, and avoiding large gatherings. By taking these precautions, we can help protect ourselves and others from this highly contagious virus. \""
            ],
            "application/vnd.google.colaboratory.intrinsic+json": {
              "type": "string"
            }
          },
          "metadata": {},
          "execution_count": 64
        }
      ]
    },
    {
      "cell_type": "markdown",
      "source": [
        "## 'Decorated' Tree of Thought"
      ],
      "metadata": {
        "id": "Xnpe4z6xSY_u"
      }
    },
    {
      "cell_type": "markdown",
      "source": [
        "### Initializing more Models as the 'Tree Strategy'"
      ],
      "metadata": {
        "id": "r_aCPdVzyAp5"
      }
    },
    {
      "cell_type": "code",
      "source": [
        "llm2 = OpenAI(temperature=0.7, max_tokens=3000, openai_api_key=openai_api_key)\n",
        "llm3 = OpenAI(temperature=0.7, max_tokens=3000, openai_api_key=openai_api_key)"
      ],
      "metadata": {
        "colab": {
          "base_uri": "https://localhost:8080/"
        },
        "id": "_94ki69hSWoD",
        "outputId": "411d5596-9734-45f0-897a-9756b1469010"
      },
      "execution_count": 8,
      "outputs": [
        {
          "output_type": "stream",
          "name": "stderr",
          "text": [
            "<ipython-input-8-a06b0c6fe2d0>:1: LangChainDeprecationWarning: The class `OpenAI` was deprecated in LangChain 0.0.10 and will be removed in 1.0. An updated version of the class exists in the :class:`~langchain-openai package and should be used instead. To use it run `pip install -U :class:`~langchain-openai` and import as `from :class:`~langchain_openai import OpenAI``.\n",
            "  llm1 = OpenAI(temperature=0.7, max_tokens=3000, openai_api_key=openai_api_key)\n"
          ]
        }
      ]
    },
    {
      "cell_type": "code",
      "source": [
        "prompt1 = PromptTemplate(template=tot_meta_prompt, input_variables=['question'])\n",
        "prompt2 = PromptTemplate(template=tot_meta_prompt, input_variables=['question'])\n",
        "prompt3 = PromptTemplate(template=tot_meta_prompt, input_variables=['question'])"
      ],
      "metadata": {
        "id": "i4-eTfe9SyEP"
      },
      "execution_count": 44,
      "outputs": []
    },
    {
      "cell_type": "code",
      "source": [
        "llm_chain_1 = LLMChain(prompt=prompt1, llm=llm1)\n",
        "llm_chain_2 = LLMChain(prompt=prompt2, llm=llm2)\n",
        "llm_chain_3 = LLMChain(prompt=prompt3, llm=llm3)"
      ],
      "metadata": {
        "colab": {
          "base_uri": "https://localhost:8080/"
        },
        "id": "Z19cc9YjXSa7",
        "outputId": "d0a3956d-3680-45b7-daf8-76dcb37b69dd"
      },
      "execution_count": 45,
      "outputs": [
        {
          "output_type": "stream",
          "name": "stderr",
          "text": [
            "<ipython-input-45-7dbc3eaa523c>:1: LangChainDeprecationWarning: The class `LLMChain` was deprecated in LangChain 0.1.17 and will be removed in 1.0. Use :meth:`~RunnableSequence, e.g., `prompt | llm`` instead.\n",
            "  llm_chain_1 = LLMChain(prompt=prompt1, llm=llm1)\n"
          ]
        }
      ]
    },
    {
      "cell_type": "code",
      "source": [
        "response_1 = llm_chain_1.run(prompt)\n",
        "response_2 = llm_chain_2.run(prompt)\n",
        "response_3 = llm_chain_3.run(prompt)"
      ],
      "metadata": {
        "colab": {
          "base_uri": "https://localhost:8080/"
        },
        "id": "bLE9VXeGXfFG",
        "outputId": "94779f10-f734-4b6b-ef33-19e686f1a569"
      },
      "execution_count": 46,
      "outputs": [
        {
          "output_type": "stream",
          "name": "stderr",
          "text": [
            "<ipython-input-46-6128815bec77>:1: LangChainDeprecationWarning: The method `Chain.run` was deprecated in langchain 0.1.0 and will be removed in 1.0. Use :meth:`~invoke` instead.\n",
            "  response_1 = llm_chain_1.run(prompt)\n"
          ]
        }
      ]
    },
    {
      "cell_type": "code",
      "source": [
        "fuser_model = OpenAI(temperature=0.1, max_tokens=1500, openai_api_key=openai_api_key)"
      ],
      "metadata": {
        "id": "YXei3yyCYHRe"
      },
      "execution_count": 55,
      "outputs": []
    },
    {
      "cell_type": "code",
      "source": [
        "answer = response_1 + response_2 + response_3\n",
        "fusion = PromptTemplate(template=tot_fuser_prompt, input_variables=['question', 'answer'])\n",
        "fusion_chain = LLMChain(prompt=fusion, llm=fuser_model)\n",
        "output = fusion_chain.run(question=prompt, answer=answer)"
      ],
      "metadata": {
        "id": "c7wNL06IXh1m"
      },
      "execution_count": 56,
      "outputs": []
    },
    {
      "cell_type": "code",
      "source": [
        "display(f\"The fuser models response was: {output}\")"
      ],
      "metadata": {
        "colab": {
          "base_uri": "https://localhost:8080/",
          "height": 71
        },
        "id": "d0qFKRnmYVL3",
        "outputId": "a3c16a82-9940-4663-fa6d-32b60a849ebe"
      },
      "execution_count": 58,
      "outputs": [
        {
          "output_type": "display_data",
          "data": {
            "text/plain": [
              "'The fuser models response was:  that the common symptoms of COVID-19 are fever, cough, and shortness of breath, with other symptoms including fatigue, body aches, headache, loss of taste or smell, sore throat, and congestion or runny nose. These symptoms may vary in severity and can also overlap with symptoms of other respiratory illnesses.'"
            ],
            "application/vnd.google.colaboratory.intrinsic+json": {
              "type": "string"
            }
          },
          "metadata": {}
        }
      ]
    },
    {
      "cell_type": "code",
      "source": [],
      "metadata": {
        "id": "BjSnq6xgdGBU"
      },
      "execution_count": null,
      "outputs": []
    }
  ]
}