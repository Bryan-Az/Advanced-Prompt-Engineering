{
  "nbformat": 4,
  "nbformat_minor": 0,
  "metadata": {
    "colab": {
      "provenance": [],
      "authorship_tag": "ABX9TyPvKd4smcICH1X2chtaVEmu",
      "include_colab_link": true
    },
    "kernelspec": {
      "name": "python3",
      "display_name": "Python 3"
    },
    "language_info": {
      "name": "python"
    }
  },
  "cells": [
    {
      "cell_type": "markdown",
      "metadata": {
        "id": "view-in-github",
        "colab_type": "text"
      },
      "source": [
        "<a href=\"https://colab.research.google.com/github/Bryan-Az/Advanced-Prompt-Engineering/blob/main/notebooks/prompt_techniques/RASCEF_REACT.ipynb\" target=\"_parent\"><img src=\"https://colab.research.google.com/assets/colab-badge.svg\" alt=\"Open In Colab\"/></a>"
      ]
    },
    {
      "cell_type": "markdown",
      "source": [
        "# Applying RASCEF and REACT to Prompt Template Generation"
      ],
      "metadata": {
        "id": "7Fd6EZqycoD4"
      }
    },
    {
      "cell_type": "markdown",
      "source": [
        "## Imports and Installs"
      ],
      "metadata": {
        "id": "pwQ2b8ZZeOTp"
      }
    },
    {
      "cell_type": "code",
      "source": [
        "%%capture\n",
        "!pip install datasets"
      ],
      "metadata": {
        "id": "gYvJ82NseJX5"
      },
      "execution_count": 1,
      "outputs": []
    },
    {
      "cell_type": "code",
      "source": [
        "import json\n",
        "import datasets\n",
        "import openai\n",
        "from google.colab import userdata\n",
        "import os"
      ],
      "metadata": {
        "id": "3DyveIpCcmoG"
      },
      "execution_count": 2,
      "outputs": []
    },
    {
      "cell_type": "markdown",
      "source": [
        "## Loading the Sample Templates"
      ],
      "metadata": {
        "id": "5LgK48gjeQ-V"
      }
    },
    {
      "cell_type": "code",
      "source": [
        "%%capture\n",
        "# downloading the react sample json from github\n",
        "! wget https://raw.githubusercontent.com/Bryan-Az/Advanced-Prompt-Engineering/refs/heads/main/prompts/ReACT_sample_structure.json -O ReACT_sample_structure.json\n",
        "! wget https://raw.githubusercontent.com/Bryan-Az/Advanced-Prompt-Engineering/refs/heads/main/prompts/RASCEF_sample_structure.json -O RASCEF_sample_structure.json"
      ],
      "metadata": {
        "id": "L50vpmA2UZ1T"
      },
      "execution_count": 6,
      "outputs": []
    },
    {
      "cell_type": "code",
      "source": [
        "#loading the sample templates as json\n",
        "with open('ReACT_sample_structure.json', 'r') as file:\n",
        "    ReACT_sample_structure = json.load(file)\n",
        "with open('RASCEF_sample_structure.json', 'r') as file:\n",
        "    RASCEF_sample_structure = json.load(file)"
      ],
      "metadata": {
        "id": "QjCDy4fucisj"
      },
      "execution_count": 7,
      "outputs": []
    },
    {
      "cell_type": "code",
      "source": [
        "display(ReACT_sample_structure)"
      ],
      "metadata": {
        "colab": {
          "base_uri": "https://localhost:8080/",
          "height": 124
        },
        "id": "lKMWuB_rjSor",
        "outputId": "2cee3b3c-739c-4856-e8ce-8e6f9696c38a"
      },
      "execution_count": 5,
      "outputs": [
        {
          "output_type": "display_data",
          "data": {
            "text/plain": [
              "{'prompt': '[Initial question or task]',\n",
              " 'actions': [{'name': '[Action Name]',\n",
              "   'description': '[Brief description of what the action does]',\n",
              "   'result_format': '[Format of the result]'}],\n",
              " 'action_requests': [{'condition': '[Condition for triggering the action]',\n",
              "   'requested_action': '[Name of the action to perform]'}]}"
            ]
          },
          "metadata": {}
        }
      ]
    },
    {
      "cell_type": "code",
      "source": [
        "display(RASCEF_sample_structure)"
      ],
      "metadata": {
        "colab": {
          "base_uri": "https://localhost:8080/",
          "height": 178
        },
        "id": "CxKrFJ6fv4s6",
        "outputId": "4c6614c1-946f-480c-9d01-24f3861dffe4"
      },
      "execution_count": 9,
      "outputs": [
        {
          "output_type": "display_data",
          "data": {
            "text/plain": [
              "{'role': 'Expert',\n",
              " 'action': 'Analyze and [Desired Outcome]',\n",
              " 'steps': ['1. [Step 1 Description]',\n",
              "  '2. [Step 2 Description]',\n",
              "  '3. [Step 3 Description]'],\n",
              " 'context': '[Brief description of the situation or data]',\n",
              " 'examples': [{'input_data': '[Example input format]',\n",
              "   'expected_output': '[Desired output format]'}],\n",
              " 'format': '[How the output should be structured]'}"
            ]
          },
          "metadata": {}
        }
      ]
    },
    {
      "cell_type": "markdown",
      "source": [
        "## Initializing the OpenAI Model API Class"
      ],
      "metadata": {
        "id": "CzAPmvo6e2xE"
      }
    },
    {
      "cell_type": "code",
      "source": [
        "openai_key = userdata.get(\"openai\")\n",
        "os.environ[\"OPENAI_API_KEY\"] = openai_key"
      ],
      "metadata": {
        "id": "NWA6-s_YgqPK"
      },
      "execution_count": 10,
      "outputs": []
    },
    {
      "cell_type": "code",
      "source": [
        "model_name = 'gpt-3.5-turbo'\n",
        "def get_completion(prompt, model=model_name):\n",
        "  \"\"\"Generates text using the OpenAI API.\n",
        "\n",
        "  Args:\n",
        "    prompt: The prompt to send to the API.\n",
        "    model: The name of the model to use.\n",
        "\n",
        "  Returns:\n",
        "    The generated text.\n",
        "  \"\"\"\n",
        "  response = openai.chat.completions.create(\n",
        "      model=model,\n",
        "      messages=[{\"role\": \"user\", \"content\": prompt}],\n",
        "      temperature=0.01\n",
        "  )\n",
        "  return response.choices[0].message.content"
      ],
      "metadata": {
        "id": "vLUd5tLEfCme"
      },
      "execution_count": 11,
      "outputs": []
    },
    {
      "cell_type": "markdown",
      "source": [
        "## Using the Model API to Generate ICL Prompts for 3 Domains\n",
        "As I already generated prompt templates in the fields of healthcare, software, math, finance, and data analysis - I will ask the model to generate 8 more prompt templates in distinct fields for both RASCEF and ReACT strategies."
      ],
      "metadata": {
        "id": "r5kqN8RFh6q3"
      }
    },
    {
      "cell_type": "code",
      "source": [
        "# calling the OpenAI API to use this template to generate RASCEF prompts\n",
        "RASCEF_prompt_generation_prompt = f\"Can you help me use this sample json template to generate 8 RASCEF style JSON prompts in the fields of construction, sculpting, gardening, farming, environmental science, and law enforcement?. Remember to change the key name of the domain to reflect the field. Template: {RASCEF_sample_structure}\"\n",
        "\n",
        "rascef_response = get_completion(RASCEF_prompt_generation_prompt)"
      ],
      "metadata": {
        "id": "VeBOAlbYd1a0"
      },
      "execution_count": 56,
      "outputs": []
    },
    {
      "cell_type": "code",
      "source": [
        "# calling the OpenAI API to use this template to generate ReACT prompts\n",
        "react_prompt_generation_prompt= f\"Can you help me use this sample json template to generate 8 ReACT style JSON prompts for Management, Fashion, Food/Beverage, Healthcare, Journalism, Library Science, Music Therapy, and Social Work? Remember to change the key name of the domain to reflect the field. Template: {ReACT_sample_structure}\"\n",
        "react_response = get_completion(react_prompt_generation_prompt)"
      ],
      "metadata": {
        "id": "g5ZgI4BXhaTn"
      },
      "execution_count": 15,
      "outputs": []
    },
    {
      "cell_type": "code",
      "source": [
        "# using regex to select the json from the text output\n",
        "import re\n",
        "def extract_json_from_text(text):\n",
        "    json_objects = []\n",
        "    while True:  # Iterate until no more JSON objects are found\n",
        "        # find many instances of inner json objects\n",
        "        matches = re.search(r'({.*?})', text, re.DOTALL)\n",
        "        if matches is None:\n",
        "            break  # No more JSON objects, exit loop\n",
        "        json_str = matches.group(1)  # Extract matched JSON string\n",
        "        text = text.replace(json_str, '', 1)  # Remove matched JSON from text\n",
        "        try:\n",
        "            json_obj = json.loads(json_str)\n",
        "            json_objects.append(json_obj)\n",
        "        except:\n",
        "            pass  # Ignore invalid JSON strings\n",
        "        json_objects.append(text)\n",
        "\n",
        "    return json_objects\n",
        "# applying it on the 2 prompt styles\n",
        "prompts = [react_response, rascef_response]\n",
        "extracted_rascef_prompts = extract_json_from_text(prompts[1])\n",
        "extracted_react_prompts = extract_json_from_text(prompts[0])"
      ],
      "metadata": {
        "id": "aL6wOc7YhQlT"
      },
      "execution_count": 66,
      "outputs": []
    },
    {
      "cell_type": "code",
      "source": [
        "print(len(extracted_rascef_prompts))\n",
        "print(len(extracted_react_prompts))"
      ],
      "metadata": {
        "colab": {
          "base_uri": "https://localhost:8080/"
        },
        "id": "sfCHL12P55zX",
        "outputId": "1cdc13c5-6272-45a5-f1f1-842f95e5a2b4"
      },
      "execution_count": 72,
      "outputs": [
        {
          "output_type": "stream",
          "name": "stdout",
          "text": [
            "6\n",
            "16\n"
          ]
        }
      ]
    },
    {
      "cell_type": "code",
      "source": [
        "# writing the output for both rascef and react prompts by writing to a new json file at prompts/generated_prompts\n",
        "with open('prompts/generated_prompts/6_rascef_prompts.json', 'w') as file:\n",
        "    json.dump(extracted_rascef_prompts, file, indent=4)\n",
        "with open('prompts/generated_prompts/16_react_prompts.json', 'w') as file:\n",
        "    json.dump(extracted_react_prompts, file, indent=4)"
      ],
      "metadata": {
        "id": "HJf_YwXIiKk8"
      },
      "execution_count": 76,
      "outputs": []
    }
  ]
}