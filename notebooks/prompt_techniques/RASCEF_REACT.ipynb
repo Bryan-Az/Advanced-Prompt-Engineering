{
  "nbformat": 4,
  "nbformat_minor": 0,
  "metadata": {
    "colab": {
      "provenance": [],
      "authorship_tag": "ABX9TyNsUOW3ow8WSkqu2KGOgcyg",
      "include_colab_link": true
    },
    "kernelspec": {
      "name": "python3",
      "display_name": "Python 3"
    },
    "language_info": {
      "name": "python"
    }
  },
  "cells": [
    {
      "cell_type": "markdown",
      "metadata": {
        "id": "view-in-github",
        "colab_type": "text"
      },
      "source": [
        "<a href=\"https://colab.research.google.com/github/Bryan-Az/Advanced-Prompt-Engineering/blob/main/notebooks/prompt_techniques/RASCEF_REACT.ipynb\" target=\"_parent\"><img src=\"https://colab.research.google.com/assets/colab-badge.svg\" alt=\"Open In Colab\"/></a>"
      ]
    },
    {
      "cell_type": "markdown",
      "source": [
        "# Applying RASCEF and REACT to Prompt Template Generation"
      ],
      "metadata": {
        "id": "7Fd6EZqycoD4"
      }
    },
    {
      "cell_type": "markdown",
      "source": [
        "## Imports and Installs"
      ],
      "metadata": {
        "id": "pwQ2b8ZZeOTp"
      }
    },
    {
      "cell_type": "code",
      "source": [
        "%%capture\n",
        "!pip install datasets"
      ],
      "metadata": {
        "id": "gYvJ82NseJX5"
      },
      "execution_count": 1,
      "outputs": []
    },
    {
      "cell_type": "code",
      "source": [
        "import json\n",
        "import datasets\n",
        "import openai\n",
        "from google.colab import userdata\n",
        "import os"
      ],
      "metadata": {
        "id": "3DyveIpCcmoG"
      },
      "execution_count": 2,
      "outputs": []
    },
    {
      "cell_type": "markdown",
      "source": [
        "## Loading the Sample Templates"
      ],
      "metadata": {
        "id": "5LgK48gjeQ-V"
      }
    },
    {
      "cell_type": "code",
      "source": [
        "%%capture\n",
        "# downloading the react sample json from github\n",
        "! wget https://raw.githubusercontent.com/Bryan-Az/Advanced-Prompt-Engineering/refs/heads/main/prompts/ReACT_sample_structure.json -O ReACT_sample_structure.json\n",
        "! wget https://raw.githubusercontent.com/Bryan-Az/Advanced-Prompt-Engineering/refs/heads/main/prompts/RASCEF_sample_structure.json -O RASCEF_sample_structure.json"
      ],
      "metadata": {
        "id": "L50vpmA2UZ1T"
      },
      "execution_count": 6,
      "outputs": []
    },
    {
      "cell_type": "code",
      "source": [
        "#loading the sample templates as json\n",
        "with open('ReACT_sample_structure.json', 'r') as file:\n",
        "    ReACT_sample_structure = json.load(file)\n",
        "with open('RASCEF_sample_structure.json', 'r') as file:\n",
        "    RASCEF_sample_structure = json.load(file)"
      ],
      "metadata": {
        "id": "QjCDy4fucisj"
      },
      "execution_count": 7,
      "outputs": []
    },
    {
      "cell_type": "code",
      "source": [
        "display(ReACT_sample_structure)"
      ],
      "metadata": {
        "colab": {
          "base_uri": "https://localhost:8080/",
          "height": 124
        },
        "id": "lKMWuB_rjSor",
        "outputId": "2cee3b3c-739c-4856-e8ce-8e6f9696c38a"
      },
      "execution_count": 5,
      "outputs": [
        {
          "output_type": "display_data",
          "data": {
            "text/plain": [
              "{'prompt': '[Initial question or task]',\n",
              " 'actions': [{'name': '[Action Name]',\n",
              "   'description': '[Brief description of what the action does]',\n",
              "   'result_format': '[Format of the result]'}],\n",
              " 'action_requests': [{'condition': '[Condition for triggering the action]',\n",
              "   'requested_action': '[Name of the action to perform]'}]}"
            ]
          },
          "metadata": {}
        }
      ]
    },
    {
      "cell_type": "code",
      "source": [
        "display(RASCEF_sample_structure)"
      ],
      "metadata": {
        "colab": {
          "base_uri": "https://localhost:8080/",
          "height": 178
        },
        "id": "CxKrFJ6fv4s6",
        "outputId": "4c6614c1-946f-480c-9d01-24f3861dffe4"
      },
      "execution_count": 9,
      "outputs": [
        {
          "output_type": "display_data",
          "data": {
            "text/plain": [
              "{'role': 'Expert',\n",
              " 'action': 'Analyze and [Desired Outcome]',\n",
              " 'steps': ['1. [Step 1 Description]',\n",
              "  '2. [Step 2 Description]',\n",
              "  '3. [Step 3 Description]'],\n",
              " 'context': '[Brief description of the situation or data]',\n",
              " 'examples': [{'input_data': '[Example input format]',\n",
              "   'expected_output': '[Desired output format]'}],\n",
              " 'format': '[How the output should be structured]'}"
            ]
          },
          "metadata": {}
        }
      ]
    },
    {
      "cell_type": "markdown",
      "source": [
        "## Initializing the OpenAI Model API Class"
      ],
      "metadata": {
        "id": "CzAPmvo6e2xE"
      }
    },
    {
      "cell_type": "code",
      "source": [
        "openai_key = userdata.get(\"openai\")\n",
        "os.environ[\"OPENAI_API_KEY\"] = openai_key"
      ],
      "metadata": {
        "id": "NWA6-s_YgqPK"
      },
      "execution_count": 10,
      "outputs": []
    },
    {
      "cell_type": "code",
      "source": [
        "model_name = 'gpt-3.5-turbo'\n",
        "def get_completion(prompt, model=model_name):\n",
        "  \"\"\"Generates text using the OpenAI API.\n",
        "\n",
        "  Args:\n",
        "    prompt: The prompt to send to the API.\n",
        "    model: The name of the model to use.\n",
        "\n",
        "  Returns:\n",
        "    The generated text.\n",
        "  \"\"\"\n",
        "  response = openai.chat.completions.create(\n",
        "      model=model,\n",
        "      messages=[{\"role\": \"user\", \"content\": prompt}],\n",
        "      temperature=0.01\n",
        "  )\n",
        "  return response.choices[0].message.content"
      ],
      "metadata": {
        "id": "vLUd5tLEfCme"
      },
      "execution_count": 11,
      "outputs": []
    },
    {
      "cell_type": "markdown",
      "source": [
        "## Using the Model API to Generate ICL Prompts for 3 Domains\n",
        "As I already generated prompt templates in the fields of healthcare, software, math, finance, and data analysis - I will ask the model to generate 8 more prompt templates in distinct fields for both RASCEF and ReACT strategies."
      ],
      "metadata": {
        "id": "r5kqN8RFh6q3"
      }
    },
    {
      "cell_type": "code",
      "source": [
        "# calling the OpenAI API to use this template to generate RASCEF prompts\n",
        "RASCEF_prompt_generation_prompt = f\"Can you help me use this sample json template to generate 8 RASCEF style JSON prompts in the fields of construction, sculpting, gardening, farming, environmental science, and law enforcement?. Only return the JSON, avoid seperating the JSONs into seperate outer nests - do not add bulleted list. Template: {RASCEF_sample_structure}\"\n",
        "\n",
        "rascef_response = get_completion(RASCEF_prompt_generation_prompt)"
      ],
      "metadata": {
        "id": "VeBOAlbYd1a0"
      },
      "execution_count": 98,
      "outputs": []
    },
    {
      "cell_type": "code",
      "source": [
        "rascef_response"
      ],
      "metadata": {
        "colab": {
          "base_uri": "https://localhost:8080/",
          "height": 107
        },
        "id": "v77xRaWH8tnF",
        "outputId": "4c892b4b-f5fe-4f2f-9013-7498d436c7ca"
      },
      "execution_count": 99,
      "outputs": [
        {
          "output_type": "execute_result",
          "data": {
            "text/plain": [
              "'{\\n  \"role\": \"Expert\",\\n  \"action\": \"Analyze and optimize construction techniques for sustainable building practices\",\\n  \"steps\": [\\n    \"1. Research current construction methods and materials\",\\n    \"2. Identify areas for improvement in sustainability\",\\n    \"3. Develop and test new construction techniques\"\\n  ],\\n  \"context\": \"Looking to reduce environmental impact and increase energy efficiency in construction projects\",\\n  \"examples\": [\\n    {\\n      \"input_data\": \"Data on current construction practices and materials\",\\n      \"expected_output\": \"Recommendations for sustainable building practices\"\\n    }\\n  ],\\n  \"format\": \"Report detailing findings and recommendations\"\\n}\\n\\n{\\n  \"role\": \"Expert\",\\n  \"action\": \"Analyze and refine sculpting techniques for public art installations\",\\n  \"steps\": [\\n    \"1. Study different sculpting methods and materials\",\\n    \"2. Experiment with new techniques to achieve desired artistic effects\",\\n    \"3. Collaborate with artists and designers to create unique sculptures\"\\n  ],\\n  \"context\": \"Working on a public art project that aims to enhance community spaces\",\\n  \"examples\": [\\n    {\\n      \"input_data\": \"Design sketches and project requirements\",\\n      \"expected_output\": \"High-quality sculptures that meet artistic and aesthetic goals\"\\n    }\\n  ],\\n  \"format\": \"Presentation showcasing sculpting process and final artworks\"\\n}\\n\\n{\\n  \"role\": \"Expert\",\\n  \"action\": \"Analyze and optimize gardening practices for urban agriculture\",\\n  \"steps\": [\\n    \"1. Assess available space and resources for gardening\",\\n    \"2. Select appropriate plants and crops for urban environment\",\\n    \"3. Implement sustainable gardening techniques to maximize yield\"\\n  ],\\n  \"context\": \"Working on a community garden project in a city setting\",\\n  \"examples\": [\\n    {\\n      \"input_data\": \"Urban gardening space and soil analysis\",\\n      \"expected_output\": \"Increased crop yield and improved soil health\"\\n    }\\n  ],\\n  \"format\": \"Guidebook on urban gardening best practices\"\\n}\\n\\n{\\n  \"role\": \"Expert\",\\n  \"action\": \"Analyze and optimize farming methods for organic agriculture\",\\n  \"steps\": [\\n    \"1. Evaluate current farming practices and crop rotation strategies\",\\n    \"2. Implement organic pest control and soil enrichment techniques\",\\n    \"3. Monitor crop health and yield to assess effectiveness of new methods\"\\n  ],\\n  \"context\": \"Working on a sustainable farming project that aims to reduce chemical inputs\",\\n  \"examples\": [\\n    {\\n      \"input_data\": \"Farm layout and crop rotation schedule\",\\n      \"expected_output\": \"Increased crop yield and improved soil fertility\"\\n    }\\n  ],\\n  \"format\": \"Research paper on organic farming practices\"\\n}\\n\\n{\\n  \"role\": \"Expert\",\\n  \"action\": \"Analyze and optimize environmental science data for climate change research\",\\n  \"steps\": [\\n    \"1. Collect and analyze data on greenhouse gas emissions and climate trends\",\\n    \"2. Identify key factors contributing to climate change\",\\n    \"3. Develop models to predict future climate scenarios based on current data\"\\n  ],\\n  \"context\": \"Working on a research project to understand and mitigate the impacts of climate change\",\\n  \"examples\": [\\n    {\\n      \"input_data\": \"Climate data from various sources\",\\n      \"expected_output\": \"Predictive models for future climate scenarios\"\\n    }\\n  ],\\n  \"format\": \"Scientific report on climate change research findings\"\\n}\\n\\n{\\n  \"role\": \"Expert\",\\n  \"action\": \"Analyze and optimize law enforcement strategies for community policing\",\\n  \"steps\": [\\n    \"1. Review current policing practices and community engagement initiatives\",\\n    \"2. Identify areas for improvement in building trust and reducing crime rates\",\\n    \"3. Implement new strategies for proactive policing and crime prevention\"\\n  ],\\n  \"context\": \"Working with a police department to enhance community relations and public safety\",\\n  \"examples\": [\\n    {\\n      \"input_data\": \"Crime statistics and community feedback\",\\n      \"expected_output\": \"Decreased crime rates and improved community satisfaction\"\\n    }\\n  ],\\n  \"format\": \"Policy recommendations for community policing\"\\n}'"
            ],
            "application/vnd.google.colaboratory.intrinsic+json": {
              "type": "string"
            }
          },
          "metadata": {},
          "execution_count": 99
        }
      ]
    },
    {
      "cell_type": "code",
      "source": [
        "# calling the OpenAI API to use this template to generate ReACT prompts\n",
        "react_prompt_generation_prompt= f\"Can you help me use this sample json template to generate 8 ReACT style JSON prompts for Management, Fashion, Food/Beverage, Healthcare, Journalism, Library Science, Music Therapy, and Social Work? Only return the JSON, avoid seperating the JSONs into seperate outer nests - do not add bulleted list. Template: {ReACT_sample_structure}\"\n",
        "react_response = get_completion(react_prompt_generation_prompt)"
      ],
      "metadata": {
        "id": "g5ZgI4BXhaTn"
      },
      "execution_count": 100,
      "outputs": []
    },
    {
      "cell_type": "code",
      "source": [
        "# using regex to select the json from the text output\n",
        "import re\n",
        "def extract_json_from_text(text):\n",
        "    json_objects = []\n",
        "    while True:  # Iterate until no more JSON objects are found\n",
        "        # find many instances of json objects at any level\n",
        "        matches = re.search(r'({.*?})', text, re.DOTALL)\n",
        "        if matches is None:\n",
        "            break  # No more JSON objects, exit loop\n",
        "        json_str = matches.group(1)\n",
        "        text = text[len(json_str):]  # Remove the processed JSON string from text\n",
        "        try:\n",
        "            json_obj = json.loads(json_str)\n",
        "            json_objects.append(json_obj)\n",
        "        except:\n",
        "            pass  # Invalid JSON, ignore\n",
        "    return json_objects\n",
        "# applying it on the 2 prompt styles\n",
        "prompts = [react_response, rascef_response]\n",
        "extracted_rascef_prompts = extract_json_from_text(prompts[1])\n",
        "extracted_react_prompts = extract_json_from_text(prompts[0])"
      ],
      "metadata": {
        "id": "aL6wOc7YhQlT"
      },
      "execution_count": 101,
      "outputs": []
    },
    {
      "cell_type": "code",
      "source": [
        "print(len(extracted_rascef_prompts))\n",
        "print(len(extracted_react_prompts))"
      ],
      "metadata": {
        "colab": {
          "base_uri": "https://localhost:8080/"
        },
        "id": "sfCHL12P55zX",
        "outputId": "d249b2fb-83a3-4f1a-c622-b4cb562b2480"
      },
      "execution_count": 102,
      "outputs": [
        {
          "output_type": "stream",
          "name": "stdout",
          "text": [
            "2\n",
            "10\n"
          ]
        }
      ]
    },
    {
      "cell_type": "code",
      "source": [
        "# writing the output for both rascef and react prompts by writing to a new json file at prompts/generated_prompts\n",
        "with open('prompts/generated_prompts/2_rascef_prompts.json', 'w') as file:\n",
        "    json.dump(extracted_rascef_prompts, file, indent=4)\n",
        "with open('prompts/generated_prompts/10_react_prompts.json', 'w') as file:\n",
        "    json.dump(extracted_react_prompts, file, indent=4)"
      ],
      "metadata": {
        "id": "HJf_YwXIiKk8"
      },
      "execution_count": 103,
      "outputs": []
    },
    {
      "cell_type": "code",
      "source": [],
      "metadata": {
        "id": "hcQSIa2E8bg5"
      },
      "execution_count": null,
      "outputs": []
    }
  ]
}